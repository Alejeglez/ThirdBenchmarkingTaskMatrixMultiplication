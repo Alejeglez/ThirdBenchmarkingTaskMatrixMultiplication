{
 "cells": [
  {
   "cell_type": "code",
   "execution_count": 8,
   "metadata": {},
   "outputs": [
    {
     "name": "stdout",
     "output_type": "stream",
     "text": [
      "\\begin{tabular}{rrrr}\n",
      "\\toprule\n",
      "Size & Matrix Multiplication Compressed (ms) & Matrix Multiplication Compressed with vector (ms) & Matrix Multiplication Compressed and Dense (ms) \\\\\n",
      "\\midrule\n",
      "128 & 875 & 3436 & 199 \\\\\n",
      "256 & 4724 & 9733 & 1892 \\\\\n",
      "512 & 60415 & 190567 & 33311 \\\\\n",
      "\\bottomrule\n",
      "\\end{tabular}\n",
      "\n",
      "Matrix Multiplication Compressed (ms)                22004.666667\n",
      "Matrix Multiplication Compressed with vector (ms)    67912.000000\n",
      "Matrix Multiplication Compressed and Dense (ms)      11800.666667\n",
      "dtype: float64\n"
     ]
    }
   ],
   "source": [
    "import pandas as pd\n",
    "import matplotlib.pyplot as plt\n",
    "\n",
    "data= pd.read_csv('CompressedBenchmark.csv', sep=';')\n",
    "print(data.to_latex(index=False))\n",
    "\n",
    "data_mean = data[['Matrix Multiplication Compressed (ms)', 'Matrix Multiplication Compressed with vector (ms)', 'Matrix Multiplication Compressed and Dense (ms)']].mean()\n",
    "print(data_mean.head())\n",
    "\n",
    "#Create speed up measure based on Matrix Multiplication Compressed and Dense (ms) in data_mean\n",
    "data_mean['Matrix Multiplication Compressed (ms)'] = data_mean['Matrix Multiplication Compressed and Dense (ms)'] / data_mean['Matrix Multiplication Compressed (ms)']\n",
    "data_mean['Matrix Multiplication Compressed with vector (ms)'] = data_mean['Matrix Multiplication Compressed and Dense (ms)'] / data_mean['Matrix Multiplication Compressed with vector (ms)']\n",
    "\n",
    "print(data_mean.head())"
   ]
  }
 ],
 "metadata": {
  "kernelspec": {
   "display_name": "Python 3.11.5 ('aa2')",
   "language": "python",
   "name": "python3"
  },
  "language_info": {
   "codemirror_mode": {
    "name": "ipython",
    "version": 3
   },
   "file_extension": ".py",
   "mimetype": "text/x-python",
   "name": "python",
   "nbconvert_exporter": "python",
   "pygments_lexer": "ipython3",
   "version": "3.11.5"
  },
  "orig_nbformat": 4,
  "vscode": {
   "interpreter": {
    "hash": "5bfe877d3686b5997b49e601d0880f7918c55653d97036cd78b013499ae220ab"
   }
  }
 },
 "nbformat": 4,
 "nbformat_minor": 2
}
